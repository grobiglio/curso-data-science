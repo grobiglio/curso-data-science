{
 "cells": [
  {
   "cell_type": "code",
   "execution_count": 1,
   "id": "2b36fc38",
   "metadata": {},
   "outputs": [],
   "source": [
    "from sklearn.datasets import load_boston\n",
    "from sklearn.linear_model import LinearRegression\n",
    "from sklearn.metrics import mean_squared_error\n",
    "\n",
    "import pandas as pd\n",
    "import numpy as np"
   ]
  },
  {
   "cell_type": "code",
   "execution_count": 2,
   "id": "4c5a8aef",
   "metadata": {},
   "outputs": [],
   "source": [
    "# Gather data\n",
    "boston_dataset = load_boston()\n",
    "data = pd.DataFrame(data=boston_dataset.data, columns=boston_dataset.feature_names)\n",
    "features = data.drop(['INDUS', 'AGE'], axis=1)\n",
    "log_prices = np.log(boston_dataset.target)\n",
    "target = pd.DataFrame(log_prices, columns=['PRICE'])"
   ]
  },
  {
   "cell_type": "code",
   "execution_count": 3,
   "id": "ad3f1a59",
   "metadata": {},
   "outputs": [],
   "source": [
    "CRIME_IDX = 0\n",
    "ZN_IDX = 1\n",
    "CHAS_IDX = 2\n",
    "RM_IDX = 4\n",
    "PTRATIO_IDX = 8\n",
    "\n",
    "#property_status = np.ndarray(shape=(1, 11))\n",
    "#property_status[0][CRIME_IDX] = features['CRIM'].mean()\n",
    "#property_status[0][ZN_IDX] = features['ZN'].mean()\n",
    "#property_status[0][CHAS_IDX] = features['CRIM'].mean()\n",
    "\n",
    "property_status = features.mean().values.reshape(1, 11)"
   ]
  },
  {
   "cell_type": "code",
   "execution_count": 4,
   "id": "f6792df0",
   "metadata": {},
   "outputs": [],
   "source": [
    "regr = LinearRegression().fit(features, target)\n",
    "fitted_vals = regr.predict(features)\n",
    "\n",
    "# Calculate the MSE and RMSE using sklearn\n",
    "MSE = mean_squared_error(target, fitted_vals)\n",
    "RMSE = np.sqrt(MSE)"
   ]
  },
  {
   "cell_type": "code",
   "execution_count": 5,
   "id": "9b79a541",
   "metadata": {},
   "outputs": [],
   "source": [
    "def get_log_estimate(nr_rooms,\n",
    "                    students_per_clasroom,\n",
    "                    next_to_river=False,\n",
    "                    high_confidence=True):\n",
    "    \n",
    "    # Configure property\n",
    "    property_status[0][RM_IDX] = nr_rooms\n",
    "    property_status[0][PTRATIO_IDX] = students_per_clasroom\n",
    "    \n",
    "    property_status[0][CHAS_IDX] = next_to_river\n",
    "    \n",
    "    #if next_to_river:\n",
    "    #    property_status[0][CHAS_IDX] = 1\n",
    "    #else:\n",
    "    #    property_status[0][CHAS_IDX] = 0\n",
    "    \n",
    "    # Make prediction\n",
    "    log_estimate = regr.predict(property_status)[0][0]\n",
    "    \n",
    "    # Calc Range\n",
    "    if high_confidence:\n",
    "        upper_bound = log_estimate + 2*RMSE\n",
    "        lower_bound = log_estimate - 2*RMSE\n",
    "        interval = 95\n",
    "    else:\n",
    "        upper_bound = log_estimate + RMSE\n",
    "        lower_bound = log_estimate - RMSE\n",
    "        interval = 68\n",
    "        \n",
    "    return log_estimate, upper_bound, lower_bound, interval"
   ]
  },
  {
   "cell_type": "code",
   "execution_count": 6,
   "id": "3829e0a3",
   "metadata": {},
   "outputs": [
    {
     "data": {
      "text/plain": [
       "(2.671609743068941, 2.8591218782660714, 2.484097607871811, 68)"
      ]
     },
     "execution_count": 6,
     "metadata": {},
     "output_type": "execute_result"
    }
   ],
   "source": [
    "get_log_estimate(3, 20, False, False)"
   ]
  },
  {
   "cell_type": "code",
   "execution_count": 13,
   "id": "1ebcc0ef",
   "metadata": {},
   "outputs": [
    {
     "data": {
      "text/plain": [
       "21.2"
      ]
     },
     "execution_count": 13,
     "metadata": {},
     "output_type": "execute_result"
    }
   ],
   "source": [
    "np.median(boston_dataset.target)"
   ]
  },
  {
   "cell_type": "code",
   "execution_count": 17,
   "id": "50e47a05",
   "metadata": {},
   "outputs": [],
   "source": [
    "# Python code for converting log prices in 1970 as well as upper and lower bounds to today's prices.\n",
    "# Round values to the values to the neares 1000 dollars.\n",
    "\n",
    "ZILLOW_MEDEAN_PRICE = 583.3\n",
    "SCALE_FACTOR = ZILLOW_MEDEAN_PRICE / np.median(boston_dataset.target)\n",
    "\n",
    "def convert_log_prices(log_price):\n",
    "    \n",
    "    price = np.e**log_price\n",
    "    todays_price = round(price*SCALE_FACTOR*1000, -3)\n",
    "    return todays_price"
   ]
  },
  {
   "cell_type": "code",
   "execution_count": 20,
   "id": "5fa91ef6",
   "metadata": {},
   "outputs": [
    {
     "name": "stdout",
     "output_type": "stream",
     "text": [
      "The estimated property value is $827000.0.\n",
      "At 68% confidence the valuation range is\n",
      "USD 685000.0 at the lower end to USD 997000.0 at the high end.\n"
     ]
    }
   ],
   "source": [
    "log_estimate, upper_bound, lower_bound, conf = get_log_estimate(9, 15, False, False)\n",
    "dollar_estimate = convert_log_prices(log_estimate)\n",
    "dollar_hi = convert_log_prices(upper_bound)\n",
    "dollar_low = convert_log_prices(lower_bound)\n",
    "\n",
    "print(f'The estimated property value is ${dollar_estimate}.')\n",
    "print(f'At {conf}% confidence the valuation range is')\n",
    "print(f'USD {dollar_low} at the lower end to USD {dollar_hi} at the high end.')"
   ]
  },
  {
   "cell_type": "code",
   "execution_count": 29,
   "id": "78dcff6b",
   "metadata": {},
   "outputs": [],
   "source": [
    "def get_dollar_estimate(rm, ptratio, chas=False, large_range=True):\n",
    "    '''Estimate the price of a property in Boston.\n",
    "    \n",
    "    Keyword arguments:\n",
    "    rm -- number of rooms in the property\n",
    "    ptratio -- number of students per teacher in the classroom for the school in the area\n",
    "    chas -- True if the property is next to the river, False otherwise\n",
    "    large_range -- True for a 95% prediction interval, False for a 68% interval\n",
    "    '''\n",
    "    \n",
    "    if rm < 1 or ptratio < 1:\n",
    "        print('That is unrealistic. Try again.')\n",
    "        return\n",
    "    \n",
    "    log_estimate, upper_bound, lower_bound, conf = get_log_estimate(nr_rooms=rm,\n",
    "                                                                    students_per_clasroom=ptratio,\n",
    "                                                                    next_to_river=chas,\n",
    "                                                                    high_confidence=large_range)\n",
    "    dollar_estimate = convert_log_prices(log_estimate)\n",
    "    dollar_hi = convert_log_prices(upper_bound)\n",
    "    dollar_low = convert_log_prices(lower_bound)\n",
    "\n",
    "    print(f'The estimated property value is ${dollar_estimate}.')\n",
    "    print(f'At {conf}% confidence the valuation range is')\n",
    "    print(f'USD {dollar_low} at the lower end to USD {dollar_hi} at the high end.')"
   ]
  },
  {
   "cell_type": "code",
   "execution_count": 27,
   "id": "fa330faf",
   "metadata": {},
   "outputs": [
    {
     "name": "stdout",
     "output_type": "stream",
     "text": [
      "The estimated property value is $250000.0.\n",
      "At 68% confidence the valuation range is\n",
      "USD 207000.0 at the lower end to USD 302000.0 at the high end.\n"
     ]
    }
   ],
   "source": [
    "get_dollar_estimate(2, 30, False, False)"
   ]
  },
  {
   "cell_type": "code",
   "execution_count": 30,
   "id": "0f8ebd90",
   "metadata": {},
   "outputs": [
    {
     "name": "stdout",
     "output_type": "stream",
     "text": [
      "The estimated property value is $705000.0.\n",
      "At 95% confidence the valuation range is\n",
      "USD 484000.0 at the lower end to USD 1025000.0 at the high end.\n"
     ]
    }
   ],
   "source": [
    "import boston_valuation as val\n",
    "val.get_dollar_estimate(6, 12, False)"
   ]
  },
  {
   "cell_type": "code",
   "execution_count": null,
   "id": "6b6f13fc",
   "metadata": {},
   "outputs": [],
   "source": []
  }
 ],
 "metadata": {
  "kernelspec": {
   "display_name": "Python 3 (ipykernel)",
   "language": "python",
   "name": "python3"
  },
  "language_info": {
   "codemirror_mode": {
    "name": "ipython",
    "version": 3
   },
   "file_extension": ".py",
   "mimetype": "text/x-python",
   "name": "python",
   "nbconvert_exporter": "python",
   "pygments_lexer": "ipython3",
   "version": "3.9.7"
  }
 },
 "nbformat": 4,
 "nbformat_minor": 5
}
