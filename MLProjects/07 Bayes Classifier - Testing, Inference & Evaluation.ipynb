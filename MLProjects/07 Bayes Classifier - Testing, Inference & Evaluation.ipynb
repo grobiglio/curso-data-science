{
 "cells": [
  {
   "cell_type": "markdown",
   "id": "0b85d739",
   "metadata": {},
   "source": [
    "# Notebook Imports"
   ]
  },
  {
   "cell_type": "code",
   "execution_count": 1,
   "id": "8e4c595a",
   "metadata": {},
   "outputs": [],
   "source": [
    "import pandas as pd\n",
    "import numpy as np\n",
    "import matplotlib.pyplot as plt\n",
    "import seaborn as sns\n",
    "\n",
    "%matplotlib inline"
   ]
  },
  {
   "cell_type": "markdown",
   "id": "2659d7a3",
   "metadata": {},
   "source": [
    "# Constants"
   ]
  },
  {
   "cell_type": "code",
   "execution_count": 2,
   "id": "165bb69c",
   "metadata": {},
   "outputs": [],
   "source": [
    "TOKEN_SPAM_PROB_FILE = 'SpamData/03_Testing/prob-spam.txt'\n",
    "TOKEN_HAM_PROB_FILE = 'SpamData/03_Testing/prob-nonspam.txt'\n",
    "TOKEN_ALL_PROB_FILE = 'SpamData/03_Testing/prob-all-tokens.txt'\n",
    "\n",
    "TEST_FEATURE_MATRIX = 'SpamData/03_Testing/test-features.txt'\n",
    "TEST_TARGET_FILE = 'SpamData/03_Testing/test-target.txt'\n",
    "\n",
    "VOCAB_SIZE = 2500"
   ]
  },
  {
   "cell_type": "markdown",
   "id": "cb4a3488",
   "metadata": {},
   "source": [
    "# Load the Data"
   ]
  },
  {
   "cell_type": "code",
   "execution_count": 3,
   "id": "7f69168e",
   "metadata": {},
   "outputs": [],
   "source": [
    "# Features\n",
    "X_test = np.loadtxt(TEST_FEATURE_MATRIX, delimiter=' ')\n",
    "# Targets\n",
    "y_test = np.loadtxt(TEST_TARGET_FILE, delimiter=' ')\n",
    "# Token probabilities\n",
    "prob_token_spam = np.loadtxt(TOKEN_SPAM_PROB_FILE, delimiter=' ')\n",
    "prob_token_ham = np.loadtxt(TOKEN_HAM_PROB_FILE, delimiter=' ')\n",
    "prob_all_tokens = np.loadtxt(TOKEN_ALL_PROB_FILE, delimiter=' ')"
   ]
  },
  {
   "cell_type": "markdown",
   "id": "6a8f4b23",
   "metadata": {},
   "source": [
    "# Claculating the Joint Probability\n",
    "\n",
    "### The Dot Product"
   ]
  },
  {
   "cell_type": "code",
   "execution_count": 4,
   "id": "fc519fe5",
   "metadata": {},
   "outputs": [
    {
     "data": {
      "text/plain": [
       "22"
      ]
     },
     "execution_count": 4,
     "metadata": {},
     "output_type": "execute_result"
    }
   ],
   "source": [
    "a = np.array([1, 2, 3])\n",
    "b = np.array([0, 5, 4])\n",
    "a.dot(b)"
   ]
  },
  {
   "cell_type": "code",
   "execution_count": 5,
   "id": "c141a090",
   "metadata": {},
   "outputs": [
    {
     "data": {
      "text/plain": [
       "array([[0, 6],\n",
       "       [3, 0],\n",
       "       [5, 1]])"
      ]
     },
     "execution_count": 5,
     "metadata": {},
     "output_type": "execute_result"
    }
   ],
   "source": [
    "c = np.array([[0, 6], [3, 0], [5, 1]])\n",
    "c"
   ]
  },
  {
   "cell_type": "code",
   "execution_count": 6,
   "id": "81789720",
   "metadata": {},
   "outputs": [
    {
     "name": "stdout",
     "output_type": "stream",
     "text": [
      "[21  9]\n"
     ]
    }
   ],
   "source": [
    "print(a.dot(c))"
   ]
  },
  {
   "cell_type": "markdown",
   "id": "353967a5",
   "metadata": {},
   "source": [
    "Figure out the dimensions of the dot product between X_test and prob_token_spam.\n",
    "\n",
    "1722 x 1"
   ]
  },
  {
   "cell_type": "code",
   "execution_count": 7,
   "id": "27ebf7d6",
   "metadata": {},
   "outputs": [
    {
     "data": {
      "text/plain": [
       "(1722, 2500)"
      ]
     },
     "execution_count": 7,
     "metadata": {},
     "output_type": "execute_result"
    }
   ],
   "source": [
    "X_test.shape"
   ]
  },
  {
   "cell_type": "code",
   "execution_count": 8,
   "id": "22b7ff11",
   "metadata": {},
   "outputs": [
    {
     "data": {
      "text/plain": [
       "(2500,)"
      ]
     },
     "execution_count": 8,
     "metadata": {},
     "output_type": "execute_result"
    }
   ],
   "source": [
    "prob_token_spam.shape"
   ]
  },
  {
   "cell_type": "code",
   "execution_count": 9,
   "id": "740c3a31",
   "metadata": {},
   "outputs": [
    {
     "data": {
      "text/plain": [
       "(1722,)"
      ]
     },
     "execution_count": 9,
     "metadata": {},
     "output_type": "execute_result"
    }
   ],
   "source": [
    "X_test.dot(prob_token_spam).shape"
   ]
  },
  {
   "cell_type": "markdown",
   "id": "6c178f3c",
   "metadata": {},
   "source": [
    "## Set the Prior\n",
    "\n",
    "$$P(Spam \\, | \\, X) = \\frac{P(X \\, | Spam) \\, P(Spam)} {P(X)}$$"
   ]
  },
  {
   "cell_type": "code",
   "execution_count": 10,
   "id": "7aa1e31f",
   "metadata": {},
   "outputs": [],
   "source": [
    "PROB_SPAM = 0.3116"
   ]
  },
  {
   "cell_type": "markdown",
   "id": "7c209f74",
   "metadata": {},
   "source": [
    "Take the log number of a mumpy array. Calculate the log probabilities of the toklens given that the e-mail was spam. This was stored in prob_token_spam."
   ]
  },
  {
   "cell_type": "code",
   "execution_count": 11,
   "id": "0c72bb20",
   "metadata": {},
   "outputs": [
    {
     "data": {
      "text/plain": [
       "array([ -4.40234939,  -5.2663143 ,  -5.0124804 , ..., -11.44943173,\n",
       "       -12.14257891,  -9.30936557])"
      ]
     },
     "execution_count": 11,
     "metadata": {},
     "output_type": "execute_result"
    }
   ],
   "source": [
    "np.log(prob_token_spam)"
   ]
  },
  {
   "cell_type": "markdown",
   "id": "3f69cb2c",
   "metadata": {},
   "source": [
    "# Joint probability in log format"
   ]
  },
  {
   "cell_type": "code",
   "execution_count": 12,
   "id": "cf719e59",
   "metadata": {},
   "outputs": [],
   "source": [
    "joint_log_spam = X_test.dot(np.log(prob_token_spam) - np.log(prob_all_tokens)) + np.log(PROB_SPAM)"
   ]
  },
  {
   "cell_type": "code",
   "execution_count": 13,
   "id": "7f000c30",
   "metadata": {},
   "outputs": [
    {
     "data": {
      "text/plain": [
       "array([12.47901696, 18.88596049,  1.70836529, 18.32541844, 13.80928268])"
      ]
     },
     "execution_count": 13,
     "metadata": {},
     "output_type": "execute_result"
    }
   ],
   "source": [
    "joint_log_spam[:5]"
   ]
  },
  {
   "cell_type": "markdown",
   "id": "ddd97259",
   "metadata": {},
   "source": [
    "Calculate the log probability that the e-mails are non-spam given their tokens. Store the result in a variable called joint_log_ham.\n",
    "\n",
    "$$P(Ham \\, | \\, X) = \\frac{P(X \\, | Ham) \\, (1-P(Spam))} {P(X)}$$"
   ]
  },
  {
   "cell_type": "code",
   "execution_count": 14,
   "id": "f924dbb4",
   "metadata": {},
   "outputs": [],
   "source": [
    "joint_log_ham = X_test.dot(np.log(prob_token_ham) - np.log(prob_all_tokens)) + np.log(1-PROB_SPAM)"
   ]
  },
  {
   "cell_type": "code",
   "execution_count": 15,
   "id": "2f34c365",
   "metadata": {},
   "outputs": [
    {
     "data": {
      "text/plain": [
       "array([-43.576946  , -43.89391298, -32.90817712, -49.50761869,\n",
       "       -41.80920404])"
      ]
     },
     "execution_count": 15,
     "metadata": {},
     "output_type": "execute_result"
    }
   ],
   "source": [
    "joint_log_ham[:5]"
   ]
  },
  {
   "cell_type": "markdown",
   "id": "31d3d8cc",
   "metadata": {},
   "source": [
    "# Making Predictions\n",
    "\n",
    "### Checking for the higher joint probability\n",
    "\n",
    "$$P(Spam \\, | \\, X) > P(Ham \\, | \\, X)$$\n",
    "<br>\n",
    "<center><strong> OR </strong></center>\n",
    "<br>\n",
    "$$P(Spam \\, | \\, X) < P(Ham \\, | \\, X)$$\n",
    "\n",
    "Create the verctor of predictions, our $\\hat y$. Remember that spam e-mails should have the value 1 (true) and non-spam e-mails should have the value 0 (false). Store results in a variable called `predictions`."
   ]
  },
  {
   "cell_type": "code",
   "execution_count": 16,
   "id": "5822822e",
   "metadata": {},
   "outputs": [],
   "source": [
    "predictions = joint_log_spam > joint_log_ham"
   ]
  },
  {
   "cell_type": "code",
   "execution_count": 17,
   "id": "7a38c211",
   "metadata": {},
   "outputs": [
    {
     "data": {
      "text/plain": [
       "array([False, False, False, False, False])"
      ]
     },
     "execution_count": 17,
     "metadata": {},
     "output_type": "execute_result"
    }
   ],
   "source": [
    "predictions[-5:]"
   ]
  },
  {
   "cell_type": "code",
   "execution_count": 19,
   "id": "becb133d",
   "metadata": {},
   "outputs": [
    {
     "data": {
      "text/plain": [
       "array([0, 0, 0, 0, 0])"
      ]
     },
     "execution_count": 19,
     "metadata": {},
     "output_type": "execute_result"
    }
   ],
   "source": [
    "predictions[-5:]*1"
   ]
  },
  {
   "cell_type": "code",
   "execution_count": 18,
   "id": "df57fba4",
   "metadata": {},
   "outputs": [
    {
     "data": {
      "text/plain": [
       "array([0., 0., 0., 0., 0.])"
      ]
     },
     "execution_count": 18,
     "metadata": {},
     "output_type": "execute_result"
    }
   ],
   "source": [
    "y_test[-5:]"
   ]
  },
  {
   "cell_type": "markdown",
   "id": "b4686515",
   "metadata": {},
   "source": [
    "## Simplify\n",
    "\n",
    "$$P(Spam \\, | \\, X)P(Spam) ≠ \\frac{P(X \\, | Spam) \\, P(Spam)} {P(X)}$$"
   ]
  },
  {
   "cell_type": "code",
   "execution_count": 21,
   "id": "76f3fad3",
   "metadata": {},
   "outputs": [],
   "source": [
    "joint_log_spam = X_test.dot(np.log(prob_token_spam)) + np.log(PROB_SPAM)\n",
    "joint_log_ham = X_test.dot(np.log(prob_token_ham)) + np.log(1-PROB_SPAM)"
   ]
  },
  {
   "cell_type": "markdown",
   "id": "c1e833f1",
   "metadata": {},
   "source": [
    "# Metrics and Evaluation\n",
    "\n",
    "### Accuracy"
   ]
  },
  {
   "cell_type": "code",
   "execution_count": 25,
   "id": "3ae7a145",
   "metadata": {},
   "outputs": [
    {
     "name": "stdout",
     "output_type": "stream",
     "text": [
      "Docs classified correctly: 1677\n",
      "Docs classified incorrecly: 45\n"
     ]
    }
   ],
   "source": [
    "correct_docs = (y_test == predictions).sum()\n",
    "print('Docs classified correctly:', correct_docs)\n",
    "numdocs_wrong = X_test.shape[0] - correct_docs\n",
    "print('Docs classified incorrecly:', numdocs_wrong)"
   ]
  },
  {
   "cell_type": "code",
   "execution_count": 26,
   "id": "2c8a06e8",
   "metadata": {},
   "outputs": [
    {
     "data": {
      "text/plain": [
       "0.9738675958188153"
      ]
     },
     "execution_count": 26,
     "metadata": {},
     "output_type": "execute_result"
    }
   ],
   "source": [
    "# Accuracy\n",
    "correct_docs/len(X_test)"
   ]
  },
  {
   "cell_type": "code",
   "execution_count": 28,
   "id": "35083f5a",
   "metadata": {},
   "outputs": [
    {
     "name": "stdout",
     "output_type": "stream",
     "text": [
      "Fraction clssified incorrectly is 2.61%\n",
      "Accuracy of the model is 97.39%\n"
     ]
    }
   ],
   "source": [
    "fraction_wrong = numdocs_wrong/len(X_test)\n",
    "print('Fraction clssified incorrectly is {:.2%}'.format(fraction_wrong))\n",
    "print('Accuracy of the model is {:.2%}'.format(1-fraction_wrong))"
   ]
  }
 ],
 "metadata": {
  "kernelspec": {
   "display_name": "Python 3 (ipykernel)",
   "language": "python",
   "name": "python3"
  },
  "language_info": {
   "codemirror_mode": {
    "name": "ipython",
    "version": 3
   },
   "file_extension": ".py",
   "mimetype": "text/x-python",
   "name": "python",
   "nbconvert_exporter": "python",
   "pygments_lexer": "ipython3",
   "version": "3.9.7"
  }
 },
 "nbformat": 4,
 "nbformat_minor": 5
}
